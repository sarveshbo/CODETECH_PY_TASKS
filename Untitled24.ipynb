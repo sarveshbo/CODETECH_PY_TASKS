{
  "nbformat": 4,
  "nbformat_minor": 0,
  "metadata": {
    "colab": {
      "provenance": []
    },
    "kernelspec": {
      "name": "python3",
      "display_name": "Python 3"
    },
    "language_info": {
      "name": "python"
    }
  },
  "cells": [
    {
      "cell_type": "code",
      "source": [
        "import nltk\n",
        "import random\n",
        "from nltk.chat.util import Chat, reflections\n",
        "\n",
        "# Download necessary NLTK data\n",
        "nltk.download('punkt')\n",
        "nltk.download('wordnet')\n",
        "\n",
        "# Define patterns and responses\n",
        "pairs = [\n",
        "    [\n",
        "        r\"hi|hello|hey\",\n",
        "        [\"Hello!\", \"Hi there!\", \"Hey! How can I assist you today?\"]\n",
        "    ],\n",
        "    [\n",
        "        r\"how are you?\",\n",
        "        [\"I'm just a chatbot, but I'm doing well! How about you?\"]\n",
        "    ],\n",
        "    [\n",
        "        r\"(.*) your name?\",\n",
        "        [\"I am a chatbot created using Python and NLTK! You can call me ChatBot.\"]\n",
        "    ],\n",
        "    [\n",
        "        r\"what can you do?\",\n",
        "        [\"I can chat with you, answer simple questions, and help you with basic tasks!\"]\n",
        "    ],\n",
        "    [\n",
        "        r\"tell me a joke\",\n",
        "        [\"Why don't scientists trust atoms? Because they make up everything!\"]\n",
        "    ],\n",
        "    [\n",
        "        r\"what is AI?\",\n",
        "        [\"Artificial Intelligence (AI) is the simulation of human intelligence in machines that can think and learn.\"]\n",
        "    ],\n",
        "    [\n",
        "        r\"who created you?\",\n",
        "        [\"I was created by a Python developer using NLTK!\"]\n",
        "    ],\n",
        "    [\n",
        "        r\"(.*) weather like?\",\n",
        "        [\"I'm not connected to a weather service, but you can check online for accurate updates!\"]\n",
        "    ],\n",
        "    [\n",
        "        r\"what is your purpose?\",\n",
        "        [\"My purpose is to assist and chat with users like you!\"]\n",
        "    ],\n",
        "    [\n",
        "        r\"quit\",\n",
        "        [\"Bye! Have a great day ahead.\"]\n",
        "    ]\n",
        "]\n",
        "\n",
        "# Create chatbot instance\n",
        "chatbot = Chat(pairs, reflections)\n",
        "\n",
        "def chatbot_response():\n",
        "    print(\"Chatbot: Hello! Type 'quit' to exit.\")\n",
        "    while True:\n",
        "        user_input = input(\"You: \")\n",
        "        if user_input.lower() == 'quit':\n",
        "            print(\"Chatbot: Bye!\")\n",
        "            break\n",
        "        response = chatbot.respond(user_input)\n",
        "        print(f\"Chatbot: {response}\")\n",
        "\n",
        "# Run chatbot\n",
        "if __name__ == \"__main__\":\n",
        "    chatbot_response()\n"
      ],
      "metadata": {
        "colab": {
          "base_uri": "https://localhost:8080/"
        },
        "id": "W-Yg7HM5VRh4",
        "outputId": "2eaca8cc-05d0-4409-b228-6ac41ea315b0"
      },
      "execution_count": 3,
      "outputs": [
        {
          "output_type": "stream",
          "name": "stderr",
          "text": [
            "[nltk_data] Downloading package punkt to /root/nltk_data...\n",
            "[nltk_data]   Package punkt is already up-to-date!\n",
            "[nltk_data] Downloading package wordnet to /root/nltk_data...\n",
            "[nltk_data]   Package wordnet is already up-to-date!\n"
          ]
        },
        {
          "output_type": "stream",
          "name": "stdout",
          "text": [
            "Chatbot: Hello! Type 'quit' to exit.\n",
            "You: Hello\n",
            "Chatbot: Hi there!\n",
            "You: Hi\n",
            "Chatbot: Hi there!\n",
            "You: Hello\n",
            "Chatbot: Hello!\n",
            "You: Quit\n",
            "Chatbot: Bye!\n"
          ]
        }
      ]
    }
  ]
}